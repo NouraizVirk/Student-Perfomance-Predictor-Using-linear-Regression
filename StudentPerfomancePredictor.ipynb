{
 "cells": [
  {
   "cell_type": "markdown",
   "id": "4d049588-69b5-4ad5-9966-554c31dead83",
   "metadata": {},
   "source": [
    "# Student Perfomance Predictor"
   ]
  },
  {
   "cell_type": "code",
   "execution_count": null,
   "id": "dce6b75e-f059-418c-b224-9d6c26b96231",
   "metadata": {},
   "outputs": [],
   "source": [
    "#importing functions and Libraries\n",
    "\n",
    "import pandas as pd\n",
    "import matplotlib.pyplot as plt\n",
    "from sklearn.model_selection import train_test_split\n",
    "from sklearn.linear_model import LinearRegression\n",
    "from sklearn.metrics import mean_absolute_error,mean_squared_error,r2_score\n",
    "import numpy as np"
   ]
  },
  {
   "cell_type": "markdown",
   "id": "1ae30093-a199-4ce0-a284-f1107237c7fa",
   "metadata": {},
   "source": [
    "## Data cleansing"
   ]
  },
  {
   "cell_type": "code",
   "execution_count": null,
   "id": "2684be96-10a5-4b1b-aebc-6018c90a62d9",
   "metadata": {
    "scrolled": true
   },
   "outputs": [],
   "source": [
    "#loading dataset\n",
    "\n",
    "df = pd.read_csv(r\"Dataset\\StudentPerformanceFactors.csv\")"
   ]
  },
  {
   "cell_type": "code",
   "execution_count": null,
   "id": "fda0df39-9984-405f-8308-5a652d6b48da",
   "metadata": {},
   "outputs": [],
   "source": [
    "#Exploring the dataset\n",
    "\n",
    "df.head()\n",
    "df.info()\n",
    "df.describe()\n",
    "df.isnull().sum()"
   ]
  },
  {
   "cell_type": "code",
   "execution_count": null,
   "id": "a3f95402-267d-4d19-8e64-47a49fb2e227",
   "metadata": {},
   "outputs": [],
   "source": [
    "x = df[[\"Hours_Studied\"]]\n",
    "y =df[[\"Exam_Score\"]]"
   ]
  },
  {
   "cell_type": "code",
   "execution_count": null,
   "id": "f3c88234-27d9-4564-92ea-31fef9640d24",
   "metadata": {
    "scrolled": true
   },
   "outputs": [],
   "source": [
    "print(x.head())\n",
    "print(y.head())"
   ]
  },
  {
   "cell_type": "code",
   "execution_count": null,
   "id": "900eef46-a84a-401c-9585-7af11650ead1",
   "metadata": {
    "scrolled": true
   },
   "outputs": [],
   "source": [
    "#Data Visualization (Study Hours vs Exam Score)\n",
    "\n",
    "plt.scatter(x,y,alpha=0.5)\n",
    "plt.xlabel(\"Hours_Studied\")\n",
    "plt.ylabel(\"Exam_Score\")"
   ]
  },
  {
   "cell_type": "code",
   "execution_count": null,
   "id": "cd5b1edf-ec58-458d-9d55-cc0123afe6e2",
   "metadata": {},
   "outputs": [],
   "source": [
    "#splitting the dataset\n",
    "\n",
    "x_train, x_test , y_train, y_test = train_test_split (x,y, test_size = 0.2, random_state=42)\n",
    "print(\"Traning set size: \", x_train.shape[0])\n",
    "print(\"Testing set size: \", x_test.shape[0])"
   ]
  },
  {
   "cell_type": "markdown",
   "id": "df4a6264-a02d-4eaf-8d35-9fcf202fc3ea",
   "metadata": {},
   "source": [
    "## Model traning"
   ]
  },
  {
   "cell_type": "code",
   "execution_count": null,
   "id": "663a01bf-df82-4e0f-b475-b8073764ff1c",
   "metadata": {},
   "outputs": [],
   "source": [
    "model = LinearRegression()\n",
    "model.fit(x_train, y_train)\n",
    "print(\"Slope: \", model.coef_[0])\n",
    "print(\"intercept\",model.intercept_)"
   ]
  },
  {
   "cell_type": "code",
   "execution_count": null,
   "id": "cc56117b-0236-4b28-9bc8-ddf655569d08",
   "metadata": {},
   "outputs": [],
   "source": [
    "type(y_test) #debugning"
   ]
  },
  {
   "cell_type": "code",
   "execution_count": null,
   "id": "a778b668-c223-4e27-9ca6-f791b7060e9f",
   "metadata": {},
   "outputs": [],
   "source": [
    "y_pred = model.predict(x_test)\n",
    "print(\"Actual vs Predicted Exam Score for first 10: \")\n",
    "\n",
    "a = y_test.squeeze()\n",
    "b = y_pred\n",
    "pairs = list(zip(a,b))\n",
    "for actual,predicted in pairs[:10]:\n",
    "    print(\"Actual:\",actual, \"  Predicted:\",round(predicted.item(),2)) "
   ]
  },
  {
   "cell_type": "code",
   "execution_count": null,
   "id": "d4b6dec1-bbaa-4a24-ab73-35e893c6b5bd",
   "metadata": {},
   "outputs": [],
   "source": [
    "plt.scatter(x_test, y_test, color=\"blue\", alpha=0.5, label=\"Actual\")\n",
    "\n",
    "# Regression line\n",
    "plt.plot(x_test, y_pred, color=\"red\", linewidth=2, label=\"Regression Line\")\n",
    "\n",
    "plt.xlabel(\"Hours Studied\")\n",
    "plt.ylabel(\"Exam Score\")\n",
    "plt.title(\"Linear Regression: Hours Studied vs Exam Score\")\n",
    "plt.legend()\n",
    "plt.show()\n"
   ]
  },
  {
   "cell_type": "markdown",
   "id": "61000141-d9f1-40bb-94bb-ce17643173fc",
   "metadata": {},
   "source": [
    "## Model Evaluation"
   ]
  },
  {
   "cell_type": "code",
   "execution_count": null,
   "id": "ff7ce6fb-d7d5-4cea-8312-6a33e9091c55",
   "metadata": {},
   "outputs": [],
   "source": [
    "mae = mean_absolute_error(a,b)\n",
    "mse = mean_squared_error(a,b)\n",
    "rmse = np.sqrt(mse)\n",
    "r2 = r2_score(a,b)\n",
    "print (\"Mean absolute error is:\" ,round(mae,2))\n",
    "print (\"Mean squared error is:\" ,round(mse,2))\n",
    "print (\"Root meaned squared error is:\" ,round(rmse,2))\n",
    "print (\"R2 score is:\" ,round(r2,2))"
   ]
  }
 ],
 "metadata": {
  "kernelspec": {
   "display_name": "Python 3 (ipykernel)",
   "language": "python",
   "name": "python3"
  },
  "language_info": {
   "codemirror_mode": {
    "name": "ipython",
    "version": 3
   },
   "file_extension": ".py",
   "mimetype": "text/x-python",
   "name": "python",
   "nbconvert_exporter": "python",
   "pygments_lexer": "ipython3",
   "version": "3.12.5"
  }
 },
 "nbformat": 4,
 "nbformat_minor": 5
}
